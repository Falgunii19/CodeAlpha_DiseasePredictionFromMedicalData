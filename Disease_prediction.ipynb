{
 "cells": [
  {
   "cell_type": "code",
   "execution_count": 7,
   "id": "7b5c4408-5f81-42f3-9426-1469e9815fb1",
   "metadata": {},
   "outputs": [],
   "source": [
    "import os, warnings\n",
    "warnings.filterwarnings(\"ignore\")\n",
    "\n",
    "import numpy as np\n",
    "import pandas as pd\n",
    "import matplotlib.pyplot as plt\n",
    "\n",
    "from sklearn.model_selection import train_test_split, StratifiedKFold, cross_validate\n",
    "from sklearn.preprocessing import OneHotEncoder, StandardScaler, LabelEncoder\n",
    "from sklearn.compose import ColumnTransformer\n",
    "from sklearn.impute import SimpleImputer\n",
    "from sklearn.pipeline import Pipeline\n",
    "\n",
    "from sklearn.metrics import (accuracy_score, precision_score, recall_score, f1_score,\n",
    "                             roc_auc_score, classification_report,\n",
    "                             ConfusionMatrixDisplay, RocCurveDisplay)\n",
    "\n",
    "from imblearn.over_sampling import SMOTE\n",
    "from imblearn.pipeline import Pipeline as ImbPipeline\n",
    "\n",
    "from sklearn.linear_model import LogisticRegression\n",
    "from sklearn.svm import SVC\n",
    "from sklearn.ensemble import RandomForestClassifier\n",
    "\n",
    "try:\n",
    "    from xgboost import XGBClassifier\n",
    "    HAS_XGB = True\n",
    "except Exception:\n",
    "    HAS_XGB = False\n",
    "\n",
    "import joblib\n",
    "np.set_printoptions(suppress=True)\n",
    "pd.set_option(\"display.max_columns\", 200)\n",
    "\n"
   ]
  },
  {
   "cell_type": "code",
   "execution_count": 9,
   "id": "96c619c0-79e0-4117-904f-9c712ec3fd9e",
   "metadata": {},
   "outputs": [],
   "source": [
    "\n",
    "DATASET = \"diabetes\"   \n",
    "\n",
    "PATHS = {\n",
    "    \"diabetes\":       \"./diabetes.csv\",\n",
    "    \"heart\":          \"./heart.csv\",           \n",
    "    \"breast_cancer\":  \"./breast_cancer.csv\",    \n",
    "\n"
   ]
  },
  {
   "cell_type": "code",
   "execution_count": 10,
   "id": "941f28a1-6fa8-45e9-988f-88d2bdf340ed",
   "metadata": {},
   "outputs": [
    {
     "name": "stdout",
     "output_type": "stream",
     "text": [
      "Diabetes (Pima) — Outcome=1 diabetic\n",
      "Shape: (768, 8)   Positives: 268   Negatives: 500\n"
     ]
    },
    {
     "data": {
      "text/html": [
       "<div>\n",
       "<style scoped>\n",
       "    .dataframe tbody tr th:only-of-type {\n",
       "        vertical-align: middle;\n",
       "    }\n",
       "\n",
       "    .dataframe tbody tr th {\n",
       "        vertical-align: top;\n",
       "    }\n",
       "\n",
       "    .dataframe thead th {\n",
       "        text-align: right;\n",
       "    }\n",
       "</style>\n",
       "<table border=\"1\" class=\"dataframe\">\n",
       "  <thead>\n",
       "    <tr style=\"text-align: right;\">\n",
       "      <th></th>\n",
       "      <th>Pregnancies</th>\n",
       "      <th>Glucose</th>\n",
       "      <th>BloodPressure</th>\n",
       "      <th>SkinThickness</th>\n",
       "      <th>Insulin</th>\n",
       "      <th>BMI</th>\n",
       "      <th>DiabetesPedigreeFunction</th>\n",
       "      <th>Age</th>\n",
       "    </tr>\n",
       "  </thead>\n",
       "  <tbody>\n",
       "    <tr>\n",
       "      <th>0</th>\n",
       "      <td>6</td>\n",
       "      <td>148</td>\n",
       "      <td>72</td>\n",
       "      <td>35</td>\n",
       "      <td>0</td>\n",
       "      <td>33.6</td>\n",
       "      <td>0.627</td>\n",
       "      <td>50</td>\n",
       "    </tr>\n",
       "    <tr>\n",
       "      <th>1</th>\n",
       "      <td>1</td>\n",
       "      <td>85</td>\n",
       "      <td>66</td>\n",
       "      <td>29</td>\n",
       "      <td>0</td>\n",
       "      <td>26.6</td>\n",
       "      <td>0.351</td>\n",
       "      <td>31</td>\n",
       "    </tr>\n",
       "    <tr>\n",
       "      <th>2</th>\n",
       "      <td>8</td>\n",
       "      <td>183</td>\n",
       "      <td>64</td>\n",
       "      <td>0</td>\n",
       "      <td>0</td>\n",
       "      <td>23.3</td>\n",
       "      <td>0.672</td>\n",
       "      <td>32</td>\n",
       "    </tr>\n",
       "    <tr>\n",
       "      <th>3</th>\n",
       "      <td>1</td>\n",
       "      <td>89</td>\n",
       "      <td>66</td>\n",
       "      <td>23</td>\n",
       "      <td>94</td>\n",
       "      <td>28.1</td>\n",
       "      <td>0.167</td>\n",
       "      <td>21</td>\n",
       "    </tr>\n",
       "    <tr>\n",
       "      <th>4</th>\n",
       "      <td>0</td>\n",
       "      <td>137</td>\n",
       "      <td>40</td>\n",
       "      <td>35</td>\n",
       "      <td>168</td>\n",
       "      <td>43.1</td>\n",
       "      <td>2.288</td>\n",
       "      <td>33</td>\n",
       "    </tr>\n",
       "  </tbody>\n",
       "</table>\n",
       "</div>"
      ],
      "text/plain": [
       "   Pregnancies  Glucose  BloodPressure  SkinThickness  Insulin   BMI  \\\n",
       "0            6      148             72             35        0  33.6   \n",
       "1            1       85             66             29        0  26.6   \n",
       "2            8      183             64              0        0  23.3   \n",
       "3            1       89             66             23       94  28.1   \n",
       "4            0      137             40             35      168  43.1   \n",
       "\n",
       "   DiabetesPedigreeFunction  Age  \n",
       "0                     0.627   50  \n",
       "1                     0.351   31  \n",
       "2                     0.672   32  \n",
       "3                     0.167   21  \n",
       "4                     2.288   33  "
      ]
     },
     "execution_count": 10,
     "metadata": {},
     "output_type": "execute_result"
    }
   ],
   "source": [
    "def load_diabetes(path):\n",
    "    df = pd.read_csv(path)\n",
    "    if \"Outcome\" not in df.columns:\n",
    "        raise ValueError(\"Diabetes CSV must contain 'Outcome' column.\")\n",
    "    X = df.drop(columns=[\"Outcome\"])\n",
    "    y = df[\"Outcome\"].astype(int)\n",
    "    return X, y, \"Diabetes (Pima) — Outcome=1 diabetic\"\n",
    "\n",
    "def load_heart(path):\n",
    "    names = [\"age\",\"sex\",\"cp\",\"trestbps\",\"chol\",\"fbs\",\"restecg\",\"thalach\",\n",
    "             \"exang\",\"oldpeak\",\"slope\",\"ca\",\"thal\",\"num\"]  \n",
    "    df = pd.read_csv(path, header=None, names=names, na_values=[\"?\"])\n",
    "    if \"target\" in df.columns:\n",
    "        y = pd.to_numeric(df[\"target\"], errors=\"coerce\")\n",
    "        X = df.drop(columns=[\"target\"])\n",
    "    else:\n",
    "        y = (pd.to_numeric(df[\"num\"], errors=\"coerce\") > 0).astype(int)\n",
    "        X = df.drop(columns=[\"num\"])\n",
    "    for c in X.columns:\n",
    "        X[c] = pd.to_numeric(X[c], errors=\"ignore\")\n",
    "    return X, y, \"Heart Disease (Cleveland) — label: disease (1) vs no disease (0)\"\n",
    "\n",
    "def load_breast_cancer(path):\n",
    "    columns = [\n",
    "        \"ID\",\"Diagnosis\",\n",
    "        \"radius_mean\",\"texture_mean\",\"perimeter_mean\",\"area_mean\",\"smoothness_mean\",\n",
    "        \"compactness_mean\",\"concavity_mean\",\"concave_points_mean\",\"symmetry_mean\",\"fractal_dimension_mean\",\n",
    "        \"radius_se\",\"texture_se\",\"perimeter_se\",\"area_se\",\"smoothness_se\",\"compactness_se\",\n",
    "        \"concavity_se\",\"concave_points_se\",\"symmetry_se\",\"fractal_dimension_se\",\n",
    "        \"radius_worst\",\"texture_worst\",\"perimeter_worst\",\"area_worst\",\"smoothness_worst\",\n",
    "        \"compactness_worst\",\"concavity_worst\",\"concave_points_worst\",\"symmetry_worst\",\"fractal_dimension_worst\"\n",
    "    ]\n",
    "    df = pd.read_csv(path, header=None, names=columns)\n",
    "    df = df.drop(columns=[\"ID\"])\n",
    "    df[\"Diagnosis\"] = (df[\"Diagnosis\"].astype(str).str.strip().str.upper().map({\"M\":1,\"B\":0}))\n",
    "    if df[\"Diagnosis\"].isna().any():\n",
    "        raise ValueError(\"Diagnosis column could not be mapped to M/B. Check your file.\")\n",
    "    X = df.drop(columns=[\"Diagnosis\"])\n",
    "    y = df[\"Diagnosis\"].astype(int)\n",
    "    return X, y, \"Breast Cancer WDBC — Diagnosis M(1)/B(0)\"\n",
    "\n",
    "def load_dataset(key, paths):\n",
    "    if key not in paths:\n",
    "        raise ValueError(f\"Unknown dataset key: {key}\")\n",
    "    path = paths[key]\n",
    "    if not os.path.exists(path):\n",
    "        raise FileNotFoundError(f\"File not found: {path}\")\n",
    "    if key == \"diabetes\":\n",
    "        return load_diabetes(path)\n",
    "    if key == \"heart\":\n",
    "        return load_heart(path)\n",
    "    if key == \"breast_cancer\":\n",
    "        return load_breast_cancer(path)\n",
    "\n",
    "X, y, info = load_dataset(DATASET, PATHS)\n",
    "print(info)\n",
    "print(\"Shape:\", X.shape, \"  Positives:\", int(y.sum()), \"  Negatives:\", int((1-y).sum()))\n",
    "X.head()\n",
    "\n",
    "\n",
    "\n"
   ]
  },
  {
   "cell_type": "code",
   "execution_count": 11,
   "id": "5ef0a32d-dfbf-4a5f-8aea-6f064c8b244b",
   "metadata": {},
   "outputs": [
    {
     "name": "stdout",
     "output_type": "stream",
     "text": [
      "Numeric features: 8 | Categorical features: 0\n"
     ]
    }
   ],
   "source": [
    "\n",
    "numeric_cols = X.select_dtypes(include=[np.number]).columns.tolist()\n",
    "categorical_cols = [c for c in X.columns if c not in numeric_cols]\n",
    "\n",
    "numeric_pipe = Pipeline([\n",
    "    (\"imputer\", SimpleImputer(strategy=\"median\")),\n",
    "    (\"scaler\", StandardScaler()),\n",
    "])\n",
    "\n",
    "categorical_pipe = Pipeline([\n",
    "    (\"imputer\", SimpleImputer(strategy=\"most_frequent\")),\n",
    "    (\"onehot\", OneHotEncoder(handle_unknown=\"ignore\"))\n",
    "])\n",
    "\n",
    "preprocess = ColumnTransformer([\n",
    "    (\"num\", numeric_pipe, numeric_cols),\n",
    "    (\"cat\", categorical_pipe, categorical_cols),\n",
    "])\n",
    "print(\"Numeric features:\", len(numeric_cols), \"| Categorical features:\", len(categorical_cols))\n",
    "\n"
   ]
  },
  {
   "cell_type": "code",
   "execution_count": 12,
   "id": "26219500-af64-4ba0-8c05-337c0ef05e92",
   "metadata": {},
   "outputs": [
    {
     "name": "stdout",
     "output_type": "stream",
     "text": [
      "Train size: (614, 8)  Test size: (154, 8)\n"
     ]
    }
   ],
   "source": [
    "X_train, X_test, y_train, y_test = train_test_split(\n",
    "    X, y, test_size=0.2, stratify=y, random_state=42\n",
    ")\n",
    "print(\"Train size:\", X_train.shape, \" Test size:\", X_test.shape)\n"
   ]
  },
  {
   "cell_type": "code",
   "execution_count": 13,
   "id": "c74d59aa-b71e-4296-b4cb-0f592ba1e39f",
   "metadata": {},
   "outputs": [],
   "source": [
    "models = {\n",
    "    \"LogisticRegression\": LogisticRegression(max_iter=1000),\n",
    "    \"SVM-RBF\": SVC(kernel=\"rbf\", probability=True),\n",
    "    \"RandomForest\": RandomForestClassifier(n_estimators=400, random_state=42),\n",
    "}\n",
    "if HAS_XGB:\n",
    "    models[\"XGBoost\"] = XGBClassifier(\n",
    "        n_estimators=500, max_depth=4, learning_rate=0.08,\n",
    "        subsample=0.9, colsample_bytree=0.9, eval_metric=\"logloss\", random_state=42\n",
    "    )\n",
    "else:\n",
    "    print(\"xgboost not installed — skipping XGBoost model.\")\n"
   ]
  },
  {
   "cell_type": "code",
   "execution_count": 14,
   "id": "0360538e-4231-43fd-899b-0645f3df0185",
   "metadata": {},
   "outputs": [
    {
     "data": {
      "text/html": [
       "<div>\n",
       "<style scoped>\n",
       "    .dataframe tbody tr th:only-of-type {\n",
       "        vertical-align: middle;\n",
       "    }\n",
       "\n",
       "    .dataframe tbody tr th {\n",
       "        vertical-align: top;\n",
       "    }\n",
       "\n",
       "    .dataframe thead th {\n",
       "        text-align: right;\n",
       "    }\n",
       "</style>\n",
       "<table border=\"1\" class=\"dataframe\">\n",
       "  <thead>\n",
       "    <tr style=\"text-align: right;\">\n",
       "      <th></th>\n",
       "      <th>model</th>\n",
       "      <th>cv_acc</th>\n",
       "      <th>cv_prec</th>\n",
       "      <th>cv_rec</th>\n",
       "      <th>cv_f1</th>\n",
       "      <th>cv_auc</th>\n",
       "      <th>test_acc</th>\n",
       "      <th>test_prec</th>\n",
       "      <th>test_rec</th>\n",
       "      <th>test_f1</th>\n",
       "      <th>test_auc</th>\n",
       "    </tr>\n",
       "  </thead>\n",
       "  <tbody>\n",
       "    <tr>\n",
       "      <th>0</th>\n",
       "      <td>LogisticRegression</td>\n",
       "      <td>0.765427</td>\n",
       "      <td>0.646419</td>\n",
       "      <td>0.733666</td>\n",
       "      <td>0.685630</td>\n",
       "      <td>0.833542</td>\n",
       "      <td>0.740260</td>\n",
       "      <td>0.612903</td>\n",
       "      <td>0.703704</td>\n",
       "      <td>0.655172</td>\n",
       "      <td>0.820370</td>\n",
       "    </tr>\n",
       "    <tr>\n",
       "      <th>2</th>\n",
       "      <td>RandomForest</td>\n",
       "      <td>0.770332</td>\n",
       "      <td>0.669975</td>\n",
       "      <td>0.682171</td>\n",
       "      <td>0.675059</td>\n",
       "      <td>0.816244</td>\n",
       "      <td>0.720779</td>\n",
       "      <td>0.587302</td>\n",
       "      <td>0.685185</td>\n",
       "      <td>0.632479</td>\n",
       "      <td>0.813148</td>\n",
       "    </tr>\n",
       "    <tr>\n",
       "      <th>3</th>\n",
       "      <td>XGBoost</td>\n",
       "      <td>0.731254</td>\n",
       "      <td>0.609096</td>\n",
       "      <td>0.654264</td>\n",
       "      <td>0.629992</td>\n",
       "      <td>0.783693</td>\n",
       "      <td>0.733766</td>\n",
       "      <td>0.610169</td>\n",
       "      <td>0.666667</td>\n",
       "      <td>0.637168</td>\n",
       "      <td>0.807593</td>\n",
       "    </tr>\n",
       "    <tr>\n",
       "      <th>1</th>\n",
       "      <td>SVM-RBF</td>\n",
       "      <td>0.754018</td>\n",
       "      <td>0.630912</td>\n",
       "      <td>0.733555</td>\n",
       "      <td>0.675950</td>\n",
       "      <td>0.836505</td>\n",
       "      <td>0.707792</td>\n",
       "      <td>0.558442</td>\n",
       "      <td>0.796296</td>\n",
       "      <td>0.656489</td>\n",
       "      <td>0.786667</td>\n",
       "    </tr>\n",
       "  </tbody>\n",
       "</table>\n",
       "</div>"
      ],
      "text/plain": [
       "                model    cv_acc   cv_prec    cv_rec     cv_f1    cv_auc  \\\n",
       "0  LogisticRegression  0.765427  0.646419  0.733666  0.685630  0.833542   \n",
       "2        RandomForest  0.770332  0.669975  0.682171  0.675059  0.816244   \n",
       "3             XGBoost  0.731254  0.609096  0.654264  0.629992  0.783693   \n",
       "1             SVM-RBF  0.754018  0.630912  0.733555  0.675950  0.836505   \n",
       "\n",
       "   test_acc  test_prec  test_rec   test_f1  test_auc  \n",
       "0  0.740260   0.612903  0.703704  0.655172  0.820370  \n",
       "2  0.720779   0.587302  0.685185  0.632479  0.813148  \n",
       "3  0.733766   0.610169  0.666667  0.637168  0.807593  \n",
       "1  0.707792   0.558442  0.796296  0.656489  0.786667  "
      ]
     },
     "execution_count": 14,
     "metadata": {},
     "output_type": "execute_result"
    }
   ],
   "source": [
    "def _scores(est, X_):\n",
    "    if hasattr(est, \"predict_proba\"):\n",
    "        return est.predict_proba(X_)[:,1]\n",
    "    if hasattr(est, \"decision_function\"):\n",
    "        s = est.decision_function(X_)\n",
    "        \n",
    "        return (s - s.min()) / (s.max() - s.min() + 1e-9)\n",
    "    return est.predict(X_)\n",
    "\n",
    "cv = StratifiedKFold(n_splits=5, shuffle=True, random_state=42)\n",
    "results = []\n",
    "\n",
    "for name, clf in models.items():\n",
    "    pipe = ImbPipeline([\n",
    "        (\"prep\", preprocess),\n",
    "        (\"smote\", SMOTE(random_state=42)),   \n",
    "        (\"clf\", clf),\n",
    "    ])\n",
    "\n",
    "    cv_res = cross_validate(\n",
    "        pipe, X_train, y_train, cv=cv, n_jobs=-1,\n",
    "        scoring=[\"accuracy\",\"precision\",\"recall\",\"f1\",\"roc_auc\"],\n",
    "        return_train_score=False\n",
    "    )\n",
    "\n",
    "    pipe.fit(X_train, y_train)\n",
    "    y_pred = pipe.predict(X_test)\n",
    "    y_score = _scores(pipe, X_test)\n",
    "\n",
    "    results.append({\n",
    "        \"model\": name,\n",
    "        \"cv_acc\":  cv_res[\"test_accuracy\"].mean(),\n",
    "        \"cv_prec\": cv_res[\"test_precision\"].mean(),\n",
    "        \"cv_rec\":  cv_res[\"test_recall\"].mean(),\n",
    "        \"cv_f1\":   cv_res[\"test_f1\"].mean(),\n",
    "        \"cv_auc\":  cv_res[\"test_roc_auc\"].mean(),\n",
    "        \"test_acc\":  accuracy_score(y_test, y_pred),\n",
    "        \"test_prec\": precision_score(y_test, y_pred, zero_division=0),\n",
    "        \"test_rec\":  recall_score(y_test, y_pred, zero_division=0),\n",
    "        \"test_f1\":   f1_score(y_test, y_pred),\n",
    "        \"test_auc\":  roc_auc_score(y_test, y_score),\n",
    "        \"pipe\": pipe\n",
    "    })\n",
    "\n",
    "pd.DataFrame([{k:v for k,v in r.items() if k!=\"pipe\"} for r in results]) \\\n",
    "  .sort_values(\"test_auc\", ascending=False)\n"
   ]
  },
  {
   "cell_type": "code",
   "execution_count": 15,
   "id": "66afb9fc-dd98-4447-9c1b-b1dbed22a1a9",
   "metadata": {},
   "outputs": [
    {
     "name": "stdout",
     "output_type": "stream",
     "text": [
      "Best by ROC-AUC: LogisticRegression  (Test ROC-AUC = 0.820)\n"
     ]
    },
    {
     "data": {
      "text/plain": [
       "<Figure size 640x480 with 0 Axes>"
      ]
     },
     "metadata": {},
     "output_type": "display_data"
    },
    {
     "data": {
      "image/png": "[encoded data removed]",
      "text/plain": [
       "<Figure size 640x480 with 1 Axes>"
      ]
     },
     "metadata": {},
     "output_type": "display_data"
    },
    {
     "data": {
      "image/png": "[encoded data removed]",
      "text/plain": [
       "<Figure size 640x480 with 1 Axes>"
      ]
     },
     "metadata": {},
     "output_type": "display_data"
    },
    {
     "data": {
      "image/png": "[encoded data removed]",
      "text/plain": [
       "<Figure size 640x480 with 1 Axes>"
      ]
     },
     "metadata": {},
     "output_type": "display_data"
    },
    {
     "data": {
      "text/plain": [
       "<Figure size 640x480 with 0 Axes>"
      ]
     },
     "metadata": {},
     "output_type": "display_data"
    },
    {
     "data": {
      "image/png": "[encoded data removed]",
      "text/plain": [
       "<Figure size 640x480 with 2 Axes>"
      ]
     },
     "metadata": {},
     "output_type": "display_data"
    },
    {
     "name": "stdout",
     "output_type": "stream",
     "text": [
      "Classification report (best model):\n",
      "\n",
      "              precision    recall  f1-score   support\n",
      "\n",
      "           0       0.83      0.76      0.79       100\n",
      "           1       0.61      0.70      0.66        54\n",
      "\n",
      "    accuracy                           0.74       154\n",
      "   macro avg       0.72      0.73      0.72       154\n",
      "weighted avg       0.75      0.74      0.74       154\n",
      "\n"
     ]
    }
   ],
   "source": [
    "best = max(results, key=lambda d: d[\"test_auc\"])\n",
    "best_name, best_pipe = best[\"model\"], best[\"pipe\"]\n",
    "print(f\"Best by ROC-AUC: {best_name}  (Test ROC-AUC = {best['test_auc']:.3f})\")\n",
    "\n",
    "# ROC curves\n",
    "plt.figure()\n",
    "for r in sorted(results, key=lambda d: d[\"test_auc\"], reverse=True)[:3]:\n",
    "    RocCurveDisplay.from_estimator(r[\"pipe\"], X_test, y_test, name=r[\"model\"])\n",
    "plt.title(\"ROC Curves (top 3)\")\n",
    "plt.show()\n",
    "\n",
    "# Confusion matrix for best\n",
    "plt.figure()\n",
    "ConfusionMatrixDisplay.from_estimator(best_pipe, X_test, y_test)\n",
    "plt.title(f\"Confusion Matrix — {best_name}\")\n",
    "plt.show()\n",
    "\n",
    "print(\"Classification report (best model):\\n\")\n",
    "print(classification_report(y_test, best_pipe.predict(X_test)))\n"
   ]
  },
  {
   "cell_type": "code",
   "execution_count": 16,
   "id": "41709279-bbcc-45f6-8df6-4437e8353c26",
   "metadata": {},
   "outputs": [
    {
     "name": "stdout",
     "output_type": "stream",
     "text": [
      "Saved: models/best_logisticregression_diabetes.joblib\n"
     ]
    }
   ],
   "source": [
    "os.makedirs(\"models\", exist_ok=True)\n",
    "tag = DATASET\n",
    "model_path = f\"models/best_{best_name.lower().replace(' ','_')}_{tag}.joblib\"\n",
    "joblib.dump(best_pipe, model_path)\n",
    "print(\"Saved:\", model_path)\n"
   ]
  },
  {
   "cell_type": "code",
   "execution_count": 18,
   "id": "e5e09435-ba61-4017-b4b8-c67a54140ab3",
   "metadata": {},
   "outputs": [
    {
     "name": "stdout",
     "output_type": "stream",
     "text": [
      "Prediction: 0   Probability of disease: 0.132\n"
     ]
    },
    {
     "data": {
      "text/html": [
       "<div>\n",
       "<style scoped>\n",
       "    .dataframe tbody tr th:only-of-type {\n",
       "        vertical-align: middle;\n",
       "    }\n",
       "\n",
       "    .dataframe tbody tr th {\n",
       "        vertical-align: top;\n",
       "    }\n",
       "\n",
       "    .dataframe thead th {\n",
       "        text-align: right;\n",
       "    }\n",
       "</style>\n",
       "<table border=\"1\" class=\"dataframe\">\n",
       "  <thead>\n",
       "    <tr style=\"text-align: right;\">\n",
       "      <th></th>\n",
       "      <th>Pregnancies</th>\n",
       "      <th>Glucose</th>\n",
       "      <th>BloodPressure</th>\n",
       "      <th>SkinThickness</th>\n",
       "      <th>Insulin</th>\n",
       "      <th>BMI</th>\n",
       "      <th>DiabetesPedigreeFunction</th>\n",
       "      <th>Age</th>\n",
       "    </tr>\n",
       "  </thead>\n",
       "  <tbody>\n",
       "    <tr>\n",
       "      <th>672</th>\n",
       "      <td>10</td>\n",
       "      <td>68</td>\n",
       "      <td>106</td>\n",
       "      <td>23</td>\n",
       "      <td>49</td>\n",
       "      <td>35.5</td>\n",
       "      <td>0.285</td>\n",
       "      <td>47</td>\n",
       "    </tr>\n",
       "  </tbody>\n",
       "</table>\n",
       "</div>"
      ],
      "text/plain": [
       "     Pregnancies  Glucose  BloodPressure  SkinThickness  Insulin   BMI  \\\n",
       "672           10       68            106             23       49  35.5   \n",
       "\n",
       "     DiabetesPedigreeFunction  Age  \n",
       "672                     0.285   47  "
      ]
     },
     "execution_count": 18,
     "metadata": {},
     "output_type": "execute_result"
    }
   ],
   "source": [
    "\n",
    "example = X_test.iloc[[1]].copy()\n",
    "proba = best_pipe.predict_proba(example)[:,1][0] if hasattr(best_pipe, \"predict_proba\") else None\n",
    "pred  = int(best_pipe.predict(example)[0])\n",
    "print(\"Prediction:\", pred, \"  Probability of disease:\" , None if proba is None else round(float(proba), 3))\n",
    "example\n"
   ]
  },
  {
   "cell_type": "code",
   "execution_count": null,
   "id": "7a29b48c-c222-4582-a6d1-2fb92fd9161e",
   "metadata": {},
   "outputs": [],
   "source": []
  }
 ],
 "metadata": {
  "kernelspec": {
   "display_name": "Python 3 (ipykernel)",
   "language": "python",
   "name": "python3"
  },
  "language_info": {
   "codemirror_mode": {
    "name": "ipython",
    "version": 3
   },
   "file_extension": ".py",
   "mimetype": "text/x-python",
   "name": "python",
   "nbconvert_exporter": "python",
   "pygments_lexer": "ipython3",
   "version": "3.12.2"
  }
 },
 "nbformat": 4,
 "nbformat_minor": 5
}
